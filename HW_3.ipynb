{
 "cells": [
  {
   "cell_type": "code",
   "execution_count": 1,
   "id": "d16d1ee6-cf0c-426b-aaba-d73f88592652",
   "metadata": {},
   "outputs": [
    {
     "name": "stderr",
     "output_type": "stream",
     "text": [
      "/var/folders/d_/wbvb32_j195786wh860dhd880000gn/T/ipykernel_58201/3081843450.py:1: DeprecationWarning: \n",
      "Pyarrow will become a required dependency of pandas in the next major release of pandas (pandas 3.0),\n",
      "(to allow more performant data types, such as the Arrow string type, and better interoperability with other libraries)\n",
      "but was not found to be installed on your system.\n",
      "If this would cause problems for you,\n",
      "please provide us feedback at https://github.com/pandas-dev/pandas/issues/54466\n",
      "        \n",
      "  import pandas as pd\n"
     ]
    }
   ],
   "source": [
    "import pandas as pd\n",
    "import numpy as np\n",
    "from sklearn.model_selection import train_test_split, KFold, cross_validate\n",
    "from sklearn.neighbors import KNeighborsClassifier\n",
    "from sklearn.metrics import make_scorer, accuracy_score, precision_score, recall_score, classification_report, confusion_matrix, f1_score\n",
    "import seaborn as sns\n",
    "import matplotlib.pyplot as plt"
   ]
  },
  {
   "cell_type": "code",
   "execution_count": 2,
   "id": "8ff0aad8-df6a-41b3-8c03-7a8c36e730d7",
   "metadata": {},
   "outputs": [],
   "source": [
    "# Read in election and demographic data\n",
    "election_data = pd.read_csv(\"1976-2020-president.tab\", sep = \"\\t\")"
   ]
  },
  {
   "cell_type": "code",
   "execution_count": 3,
   "id": "bb44fab8-eb27-430a-b6f4-29d4881a1a6c",
   "metadata": {},
   "outputs": [],
   "source": [
    "demographic_data = pd.read_csv(\"demographics.csv\")"
   ]
  },
  {
   "cell_type": "code",
   "execution_count": 4,
   "id": "a6cfbf6a-7bea-4b7f-8b63-cc5c5ddb09b5",
   "metadata": {},
   "outputs": [],
   "source": [
    "# Filter the data based on year and votes\n",
    "# Drop any duplicates\n",
    "election_data_filtered = election_data.query(\"year == 2000 or year == 2004\")\n",
    "election_data_winner = election_data_filtered.sort_values('candidatevotes', ascending=False).drop_duplicates(['year', 'state'])"
   ]
  },
  {
   "cell_type": "code",
   "execution_count": 5,
   "id": "f7f011e9-e64a-4181-b166-9dc2babad43a",
   "metadata": {},
   "outputs": [],
   "source": [
    "# Add demographic percentages to the demographic dataframe\n",
    "demographic_data['perc_male'] = demographic_data['TOT_MALE'] / demographic_data['TOT_POP'] * 100\n",
    "demographic_data['perc_female'] = demographic_data['TOT_FEMALE'] / demographic_data['TOT_POP'] * 100\n",
    "demographic_data['perc_white'] = (demographic_data['WA_MALE'] + demographic_data['WA_FEMALE']) / demographic_data['TOT_POP'] * 100\n",
    "demographic_data['perc_black'] = demographic_data['Black'] / demographic_data['TOT_POP'] * 100\n",
    "demographic_data['perc_hispanic'] = demographic_data['Hispanic'] / demographic_data['TOT_POP'] * 100"
   ]
  },
  {
   "cell_type": "code",
   "execution_count": 6,
   "id": "ce253e07-e5bf-41a7-b5bd-91b877debdb4",
   "metadata": {
    "scrolled": true
   },
   "outputs": [
    {
     "data": {
      "text/html": [
       "<div>\n",
       "<style scoped>\n",
       "    .dataframe tbody tr th:only-of-type {\n",
       "        vertical-align: middle;\n",
       "    }\n",
       "\n",
       "    .dataframe tbody tr th {\n",
       "        vertical-align: top;\n",
       "    }\n",
       "\n",
       "    .dataframe thead th {\n",
       "        text-align: right;\n",
       "    }\n",
       "</style>\n",
       "<table border=\"1\" class=\"dataframe\">\n",
       "  <thead>\n",
       "    <tr style=\"text-align: right;\">\n",
       "      <th></th>\n",
       "      <th>year</th>\n",
       "      <th>state</th>\n",
       "      <th>party_detailed</th>\n",
       "    </tr>\n",
       "  </thead>\n",
       "  <tbody>\n",
       "    <tr>\n",
       "      <th>2432</th>\n",
       "      <td>2004</td>\n",
       "      <td>CALIFORNIA</td>\n",
       "      <td>DEMOCRAT</td>\n",
       "    </tr>\n",
       "    <tr>\n",
       "      <th>2069</th>\n",
       "      <td>2000</td>\n",
       "      <td>CALIFORNIA</td>\n",
       "      <td>DEMOCRAT</td>\n",
       "    </tr>\n",
       "    <tr>\n",
       "      <th>2678</th>\n",
       "      <td>2004</td>\n",
       "      <td>TEXAS</td>\n",
       "      <td>REPUBLICAN</td>\n",
       "    </tr>\n",
       "    <tr>\n",
       "      <th>2615</th>\n",
       "      <td>2004</td>\n",
       "      <td>NEW YORK</td>\n",
       "      <td>DEMOCRAT</td>\n",
       "    </tr>\n",
       "    <tr>\n",
       "      <th>2472</th>\n",
       "      <td>2004</td>\n",
       "      <td>FLORIDA</td>\n",
       "      <td>REPUBLICAN</td>\n",
       "    </tr>\n",
       "  </tbody>\n",
       "</table>\n",
       "</div>"
      ],
      "text/plain": [
       "      year       state party_detailed\n",
       "2432  2004  CALIFORNIA       DEMOCRAT\n",
       "2069  2000  CALIFORNIA       DEMOCRAT\n",
       "2678  2004       TEXAS     REPUBLICAN\n",
       "2615  2004    NEW YORK       DEMOCRAT\n",
       "2472  2004     FLORIDA     REPUBLICAN"
      ]
     },
     "execution_count": 6,
     "metadata": {},
     "output_type": "execute_result"
    }
   ],
   "source": [
    "# Simplify the election data\n",
    "election_data_simplified = election_data_winner[['year', 'state', 'party_detailed']]\n",
    "election_data_simplified.head()"
   ]
  },
  {
   "cell_type": "code",
   "execution_count": 7,
   "id": "d536a67f-0a9a-465a-90aa-45051c650b35",
   "metadata": {},
   "outputs": [],
   "source": [
    "# Simplify the demographic data and rename the state column to prep for merge\n",
    "demographic_data_simplified = demographic_data[['STNAME', 'perc_male', 'perc_female', 'perc_white', 'perc_black', 'perc_hispanic']]\n",
    "demographic_data_simplified = demographic_data_simplified.rename(columns={\"STNAME\": \"state\"})"
   ]
  },
  {
   "cell_type": "code",
   "execution_count": 8,
   "id": "dda7a9cd-ec0c-4d78-8c9e-00c83dbeb7df",
   "metadata": {},
   "outputs": [],
   "source": [
    "# Prep state for merge\n",
    "election_data_simplified.loc[:,'state'] = election_data_simplified['state'].str.upper()\n",
    "demographic_data_simplified.loc[:,'state'] = demographic_data_simplified['state'].str.upper()"
   ]
  },
  {
   "cell_type": "code",
   "execution_count": 9,
   "id": "372199c0-6df2-48bb-b04a-1293a6c8dc30",
   "metadata": {},
   "outputs": [],
   "source": [
    "# merge the two dataframes\n",
    "merged_df = pd.merge(election_data_simplified, demographic_data_simplified, how='left', left_on='state', right_on='state')"
   ]
  },
  {
   "cell_type": "code",
   "execution_count": 10,
   "id": "cb5b87e7-345b-4ce2-802c-8d647a0f7d15",
   "metadata": {},
   "outputs": [],
   "source": [
    "# Sort df alpha by state\n",
    "merged_df.sort_values(by = 'state', inplace = True)"
   ]
  },
  {
   "cell_type": "code",
   "execution_count": 11,
   "id": "1f1ce085-7223-4629-a290-52017232ca45",
   "metadata": {},
   "outputs": [],
   "source": [
    "# Replace the DFL party with Dem\n",
    "merged_df['party_detailed'] = merged_df['party_detailed'].replace({'DEMOCRATIC-FARMER-LABOR': 'DEMOCRAT'})"
   ]
  },
  {
   "cell_type": "code",
   "execution_count": 12,
   "id": "32636fd5-0df0-40a5-bfa2-304dd741531a",
   "metadata": {},
   "outputs": [],
   "source": [
    "# Create df for only 2000 data\n",
    "df_2000 = merged_df[merged_df['year'] == 2000]"
   ]
  },
  {
   "cell_type": "code",
   "execution_count": 13,
   "id": "10be3639-ecda-4404-a962-9204cc6a5234",
   "metadata": {},
   "outputs": [],
   "source": [
    "# Create df for only 2004 data\n",
    "df_2004 = merged_df[merged_df['year'] == 2004]"
   ]
  },
  {
   "cell_type": "code",
   "execution_count": 14,
   "id": "ee61631b-bea3-4ff6-b72a-bcc00006e4e7",
   "metadata": {},
   "outputs": [],
   "source": [
    "# Prepare X and Y df to find best K values\n",
    "X_2000 = df_2000.drop(['state', 'party_detailed', 'year'], axis=1)\n",
    "y_2000 = df_2000['party_detailed']"
   ]
  },
  {
   "cell_type": "code",
   "execution_count": 15,
   "id": "cc8c9d28-e65f-4689-bd17-4ba23a60c1e4",
   "metadata": {},
   "outputs": [],
   "source": [
    "# Make Dem/Repub binary where R is 1 and D is 0\n",
    "y_2000 = y_2000.map({'DEMOCRAT': 0, 'REPUBLICAN': 1})"
   ]
  },
  {
   "cell_type": "code",
   "execution_count": 16,
   "id": "8cde1c7d-44b5-42ba-8fcd-8212a57be837",
   "metadata": {},
   "outputs": [],
   "source": [
    "def find_best_k_for_metric(X, y, metric, k_range, higher_is_better=True):\n",
    "    \"\"\"\n",
    "    Finds the best k value for KNeighborsClassifier based on a given metric.\n",
    "    \n",
    "    Parameters:\n",
    "    - X: Features DataFrame.\n",
    "    - y: Target Series.\n",
    "    - metric: The scoring metric to use ('precision_macro', 'recall_macro', etc.).\n",
    "    - k_range: Range of k values to test.\n",
    "    - higher_is_better: Boolean indicating whether a higher score is better for the metric.\n",
    "    \n",
    "    Returns:\n",
    "    - best_k: The k value that resulted in the best score.\n",
    "    - best_score: The best score achieved.\n",
    "    \"\"\"\n",
    "    kf = KFold(n_splits=5, shuffle=True, random_state=0)\n",
    "    best_score = -np.inf if higher_is_better else np.inf\n",
    "    best_k = None\n",
    "\n",
    "    for k in k_range:\n",
    "        knn = KNeighborsClassifier(n_neighbors=k)\n",
    "        cv_results = cross_validate(knn, X, y, cv=kf, scoring=metric)\n",
    "        mean_score = np.mean(cv_results['test_score'])\n",
    "\n",
    "        if higher_is_better and mean_score > best_score:\n",
    "            best_score = mean_score\n",
    "            best_k = k\n",
    "        elif not higher_is_better and mean_score < best_score:\n",
    "            best_score = mean_score\n",
    "            best_k = k\n",
    "\n",
    "    best_score_rounded = round(best_score, 4)\n",
    "    \n",
    "    return best_k, best_score_rounded"
   ]
  },
  {
   "cell_type": "code",
   "execution_count": 17,
   "id": "52f8fe1d-4157-43c7-bc05-e76cd572b93e",
   "metadata": {},
   "outputs": [
    {
     "name": "stdout",
     "output_type": "stream",
     "text": [
      "The optimal K-value for recall is 10 with a score of 0.4806\n"
     ]
    }
   ],
   "source": [
    "best_recall = find_best_k_for_metric(X_2000, y_2000, 'recall_macro', range(4, 11), higher_is_better = True)\n",
    "print(f'The optimal K-value for recall is {best_recall[0]} with a score of {best_recall[1]}')"
   ]
  },
  {
   "cell_type": "code",
   "execution_count": 18,
   "id": "d912cda8-959d-45a8-9f92-86e86f26afd0",
   "metadata": {},
   "outputs": [
    {
     "name": "stdout",
     "output_type": "stream",
     "text": [
      "The worst K-value for recall is 9 with a score of 0.3922\n"
     ]
    }
   ],
   "source": [
    "min_recall = find_best_k_for_metric(X_2000, y_2000, 'recall_macro', range(4, 11), higher_is_better = False)\n",
    "print(f'The worst K-value for recall is {min_recall[0]} with a score of {min_recall[1]}')"
   ]
  },
  {
   "cell_type": "code",
   "execution_count": 19,
   "id": "4efc19d3-c711-477f-aba5-4ad341872f97",
   "metadata": {},
   "outputs": [
    {
     "name": "stdout",
     "output_type": "stream",
     "text": [
      "The best K-value for overall precision is 5 with a score of 0.5433\n"
     ]
    },
    {
     "name": "stderr",
     "output_type": "stream",
     "text": [
      "/Users/alex/opt/anaconda3/envs/ds2500/lib/python3.10/site-packages/sklearn/metrics/_classification.py:1509: UndefinedMetricWarning: Precision is ill-defined and being set to 0.0 in labels with no predicted samples. Use `zero_division` parameter to control this behavior.\n",
      "  _warn_prf(average, modifier, f\"{metric.capitalize()} is\", len(result))\n"
     ]
    }
   ],
   "source": [
    "best_k_precision = find_best_k_for_metric(X_2000, y_2000, 'precision_macro', range(4, 11), higher_is_better = True)\n",
    "print(f'The best K-value for overall precision is {best_k_precision[0]} with a score of {best_k_precision[1]}')"
   ]
  },
  {
   "cell_type": "code",
   "execution_count": 20,
   "id": "9c76d8a7-6452-4857-bdca-324e280071da",
   "metadata": {},
   "outputs": [],
   "source": [
    "X_2004 = df_2004.drop(['state', 'party_detailed', 'year'], axis=1)"
   ]
  },
  {
   "cell_type": "code",
   "execution_count": 21,
   "id": "c7d3069d-06a1-4ee8-819e-b50578c6a301",
   "metadata": {},
   "outputs": [],
   "source": [
    "y_2004 = df_2004['party_detailed']\n",
    "y_2004 = y_2004.map({'DEMOCRAT': 0, 'REPUBLICAN': 1})"
   ]
  },
  {
   "cell_type": "code",
   "execution_count": 22,
   "id": "1851ba7f-9c7d-432a-a6cc-02138f8a3c3e",
   "metadata": {},
   "outputs": [
    {
     "data": {
      "text/html": [
       "<style>#sk-container-id-1 {\n",
       "  /* Definition of color scheme common for light and dark mode */\n",
       "  --sklearn-color-text: black;\n",
       "  --sklearn-color-line: gray;\n",
       "  /* Definition of color scheme for unfitted estimators */\n",
       "  --sklearn-color-unfitted-level-0: #fff5e6;\n",
       "  --sklearn-color-unfitted-level-1: #f6e4d2;\n",
       "  --sklearn-color-unfitted-level-2: #ffe0b3;\n",
       "  --sklearn-color-unfitted-level-3: chocolate;\n",
       "  /* Definition of color scheme for fitted estimators */\n",
       "  --sklearn-color-fitted-level-0: #f0f8ff;\n",
       "  --sklearn-color-fitted-level-1: #d4ebff;\n",
       "  --sklearn-color-fitted-level-2: #b3dbfd;\n",
       "  --sklearn-color-fitted-level-3: cornflowerblue;\n",
       "\n",
       "  /* Specific color for light theme */\n",
       "  --sklearn-color-text-on-default-background: var(--sg-text-color, var(--theme-code-foreground, var(--jp-content-font-color1, black)));\n",
       "  --sklearn-color-background: var(--sg-background-color, var(--theme-background, var(--jp-layout-color0, white)));\n",
       "  --sklearn-color-border-box: var(--sg-text-color, var(--theme-code-foreground, var(--jp-content-font-color1, black)));\n",
       "  --sklearn-color-icon: #696969;\n",
       "\n",
       "  @media (prefers-color-scheme: dark) {\n",
       "    /* Redefinition of color scheme for dark theme */\n",
       "    --sklearn-color-text-on-default-background: var(--sg-text-color, var(--theme-code-foreground, var(--jp-content-font-color1, white)));\n",
       "    --sklearn-color-background: var(--sg-background-color, var(--theme-background, var(--jp-layout-color0, #111)));\n",
       "    --sklearn-color-border-box: var(--sg-text-color, var(--theme-code-foreground, var(--jp-content-font-color1, white)));\n",
       "    --sklearn-color-icon: #878787;\n",
       "  }\n",
       "}\n",
       "\n",
       "#sk-container-id-1 {\n",
       "  color: var(--sklearn-color-text);\n",
       "}\n",
       "\n",
       "#sk-container-id-1 pre {\n",
       "  padding: 0;\n",
       "}\n",
       "\n",
       "#sk-container-id-1 input.sk-hidden--visually {\n",
       "  border: 0;\n",
       "  clip: rect(1px 1px 1px 1px);\n",
       "  clip: rect(1px, 1px, 1px, 1px);\n",
       "  height: 1px;\n",
       "  margin: -1px;\n",
       "  overflow: hidden;\n",
       "  padding: 0;\n",
       "  position: absolute;\n",
       "  width: 1px;\n",
       "}\n",
       "\n",
       "#sk-container-id-1 div.sk-dashed-wrapped {\n",
       "  border: 1px dashed var(--sklearn-color-line);\n",
       "  margin: 0 0.4em 0.5em 0.4em;\n",
       "  box-sizing: border-box;\n",
       "  padding-bottom: 0.4em;\n",
       "  background-color: var(--sklearn-color-background);\n",
       "}\n",
       "\n",
       "#sk-container-id-1 div.sk-container {\n",
       "  /* jupyter's `normalize.less` sets `[hidden] { display: none; }`\n",
       "     but bootstrap.min.css set `[hidden] { display: none !important; }`\n",
       "     so we also need the `!important` here to be able to override the\n",
       "     default hidden behavior on the sphinx rendered scikit-learn.org.\n",
       "     See: https://github.com/scikit-learn/scikit-learn/issues/21755 */\n",
       "  display: inline-block !important;\n",
       "  position: relative;\n",
       "}\n",
       "\n",
       "#sk-container-id-1 div.sk-text-repr-fallback {\n",
       "  display: none;\n",
       "}\n",
       "\n",
       "div.sk-parallel-item,\n",
       "div.sk-serial,\n",
       "div.sk-item {\n",
       "  /* draw centered vertical line to link estimators */\n",
       "  background-image: linear-gradient(var(--sklearn-color-text-on-default-background), var(--sklearn-color-text-on-default-background));\n",
       "  background-size: 2px 100%;\n",
       "  background-repeat: no-repeat;\n",
       "  background-position: center center;\n",
       "}\n",
       "\n",
       "/* Parallel-specific style estimator block */\n",
       "\n",
       "#sk-container-id-1 div.sk-parallel-item::after {\n",
       "  content: \"\";\n",
       "  width: 100%;\n",
       "  border-bottom: 2px solid var(--sklearn-color-text-on-default-background);\n",
       "  flex-grow: 1;\n",
       "}\n",
       "\n",
       "#sk-container-id-1 div.sk-parallel {\n",
       "  display: flex;\n",
       "  align-items: stretch;\n",
       "  justify-content: center;\n",
       "  background-color: var(--sklearn-color-background);\n",
       "  position: relative;\n",
       "}\n",
       "\n",
       "#sk-container-id-1 div.sk-parallel-item {\n",
       "  display: flex;\n",
       "  flex-direction: column;\n",
       "}\n",
       "\n",
       "#sk-container-id-1 div.sk-parallel-item:first-child::after {\n",
       "  align-self: flex-end;\n",
       "  width: 50%;\n",
       "}\n",
       "\n",
       "#sk-container-id-1 div.sk-parallel-item:last-child::after {\n",
       "  align-self: flex-start;\n",
       "  width: 50%;\n",
       "}\n",
       "\n",
       "#sk-container-id-1 div.sk-parallel-item:only-child::after {\n",
       "  width: 0;\n",
       "}\n",
       "\n",
       "/* Serial-specific style estimator block */\n",
       "\n",
       "#sk-container-id-1 div.sk-serial {\n",
       "  display: flex;\n",
       "  flex-direction: column;\n",
       "  align-items: center;\n",
       "  background-color: var(--sklearn-color-background);\n",
       "  padding-right: 1em;\n",
       "  padding-left: 1em;\n",
       "}\n",
       "\n",
       "\n",
       "/* Toggleable style: style used for estimator/Pipeline/ColumnTransformer box that is\n",
       "clickable and can be expanded/collapsed.\n",
       "- Pipeline and ColumnTransformer use this feature and define the default style\n",
       "- Estimators will overwrite some part of the style using the `sk-estimator` class\n",
       "*/\n",
       "\n",
       "/* Pipeline and ColumnTransformer style (default) */\n",
       "\n",
       "#sk-container-id-1 div.sk-toggleable {\n",
       "  /* Default theme specific background. It is overwritten whether we have a\n",
       "  specific estimator or a Pipeline/ColumnTransformer */\n",
       "  background-color: var(--sklearn-color-background);\n",
       "}\n",
       "\n",
       "/* Toggleable label */\n",
       "#sk-container-id-1 label.sk-toggleable__label {\n",
       "  cursor: pointer;\n",
       "  display: block;\n",
       "  width: 100%;\n",
       "  margin-bottom: 0;\n",
       "  padding: 0.5em;\n",
       "  box-sizing: border-box;\n",
       "  text-align: center;\n",
       "}\n",
       "\n",
       "#sk-container-id-1 label.sk-toggleable__label-arrow:before {\n",
       "  /* Arrow on the left of the label */\n",
       "  content: \"▸\";\n",
       "  float: left;\n",
       "  margin-right: 0.25em;\n",
       "  color: var(--sklearn-color-icon);\n",
       "}\n",
       "\n",
       "#sk-container-id-1 label.sk-toggleable__label-arrow:hover:before {\n",
       "  color: var(--sklearn-color-text);\n",
       "}\n",
       "\n",
       "/* Toggleable content - dropdown */\n",
       "\n",
       "#sk-container-id-1 div.sk-toggleable__content {\n",
       "  max-height: 0;\n",
       "  max-width: 0;\n",
       "  overflow: hidden;\n",
       "  text-align: left;\n",
       "  /* unfitted */\n",
       "  background-color: var(--sklearn-color-unfitted-level-0);\n",
       "}\n",
       "\n",
       "#sk-container-id-1 div.sk-toggleable__content.fitted {\n",
       "  /* fitted */\n",
       "  background-color: var(--sklearn-color-fitted-level-0);\n",
       "}\n",
       "\n",
       "#sk-container-id-1 div.sk-toggleable__content pre {\n",
       "  margin: 0.2em;\n",
       "  border-radius: 0.25em;\n",
       "  color: var(--sklearn-color-text);\n",
       "  /* unfitted */\n",
       "  background-color: var(--sklearn-color-unfitted-level-0);\n",
       "}\n",
       "\n",
       "#sk-container-id-1 div.sk-toggleable__content.fitted pre {\n",
       "  /* unfitted */\n",
       "  background-color: var(--sklearn-color-fitted-level-0);\n",
       "}\n",
       "\n",
       "#sk-container-id-1 input.sk-toggleable__control:checked~div.sk-toggleable__content {\n",
       "  /* Expand drop-down */\n",
       "  max-height: 200px;\n",
       "  max-width: 100%;\n",
       "  overflow: auto;\n",
       "}\n",
       "\n",
       "#sk-container-id-1 input.sk-toggleable__control:checked~label.sk-toggleable__label-arrow:before {\n",
       "  content: \"▾\";\n",
       "}\n",
       "\n",
       "/* Pipeline/ColumnTransformer-specific style */\n",
       "\n",
       "#sk-container-id-1 div.sk-label input.sk-toggleable__control:checked~label.sk-toggleable__label {\n",
       "  color: var(--sklearn-color-text);\n",
       "  background-color: var(--sklearn-color-unfitted-level-2);\n",
       "}\n",
       "\n",
       "#sk-container-id-1 div.sk-label.fitted input.sk-toggleable__control:checked~label.sk-toggleable__label {\n",
       "  background-color: var(--sklearn-color-fitted-level-2);\n",
       "}\n",
       "\n",
       "/* Estimator-specific style */\n",
       "\n",
       "/* Colorize estimator box */\n",
       "#sk-container-id-1 div.sk-estimator input.sk-toggleable__control:checked~label.sk-toggleable__label {\n",
       "  /* unfitted */\n",
       "  background-color: var(--sklearn-color-unfitted-level-2);\n",
       "}\n",
       "\n",
       "#sk-container-id-1 div.sk-estimator.fitted input.sk-toggleable__control:checked~label.sk-toggleable__label {\n",
       "  /* fitted */\n",
       "  background-color: var(--sklearn-color-fitted-level-2);\n",
       "}\n",
       "\n",
       "#sk-container-id-1 div.sk-label label.sk-toggleable__label,\n",
       "#sk-container-id-1 div.sk-label label {\n",
       "  /* The background is the default theme color */\n",
       "  color: var(--sklearn-color-text-on-default-background);\n",
       "}\n",
       "\n",
       "/* On hover, darken the color of the background */\n",
       "#sk-container-id-1 div.sk-label:hover label.sk-toggleable__label {\n",
       "  color: var(--sklearn-color-text);\n",
       "  background-color: var(--sklearn-color-unfitted-level-2);\n",
       "}\n",
       "\n",
       "/* Label box, darken color on hover, fitted */\n",
       "#sk-container-id-1 div.sk-label.fitted:hover label.sk-toggleable__label.fitted {\n",
       "  color: var(--sklearn-color-text);\n",
       "  background-color: var(--sklearn-color-fitted-level-2);\n",
       "}\n",
       "\n",
       "/* Estimator label */\n",
       "\n",
       "#sk-container-id-1 div.sk-label label {\n",
       "  font-family: monospace;\n",
       "  font-weight: bold;\n",
       "  display: inline-block;\n",
       "  line-height: 1.2em;\n",
       "}\n",
       "\n",
       "#sk-container-id-1 div.sk-label-container {\n",
       "  text-align: center;\n",
       "}\n",
       "\n",
       "/* Estimator-specific */\n",
       "#sk-container-id-1 div.sk-estimator {\n",
       "  font-family: monospace;\n",
       "  border: 1px dotted var(--sklearn-color-border-box);\n",
       "  border-radius: 0.25em;\n",
       "  box-sizing: border-box;\n",
       "  margin-bottom: 0.5em;\n",
       "  /* unfitted */\n",
       "  background-color: var(--sklearn-color-unfitted-level-0);\n",
       "}\n",
       "\n",
       "#sk-container-id-1 div.sk-estimator.fitted {\n",
       "  /* fitted */\n",
       "  background-color: var(--sklearn-color-fitted-level-0);\n",
       "}\n",
       "\n",
       "/* on hover */\n",
       "#sk-container-id-1 div.sk-estimator:hover {\n",
       "  /* unfitted */\n",
       "  background-color: var(--sklearn-color-unfitted-level-2);\n",
       "}\n",
       "\n",
       "#sk-container-id-1 div.sk-estimator.fitted:hover {\n",
       "  /* fitted */\n",
       "  background-color: var(--sklearn-color-fitted-level-2);\n",
       "}\n",
       "\n",
       "/* Specification for estimator info (e.g. \"i\" and \"?\") */\n",
       "\n",
       "/* Common style for \"i\" and \"?\" */\n",
       "\n",
       ".sk-estimator-doc-link,\n",
       "a:link.sk-estimator-doc-link,\n",
       "a:visited.sk-estimator-doc-link {\n",
       "  float: right;\n",
       "  font-size: smaller;\n",
       "  line-height: 1em;\n",
       "  font-family: monospace;\n",
       "  background-color: var(--sklearn-color-background);\n",
       "  border-radius: 1em;\n",
       "  height: 1em;\n",
       "  width: 1em;\n",
       "  text-decoration: none !important;\n",
       "  margin-left: 1ex;\n",
       "  /* unfitted */\n",
       "  border: var(--sklearn-color-unfitted-level-1) 1pt solid;\n",
       "  color: var(--sklearn-color-unfitted-level-1);\n",
       "}\n",
       "\n",
       ".sk-estimator-doc-link.fitted,\n",
       "a:link.sk-estimator-doc-link.fitted,\n",
       "a:visited.sk-estimator-doc-link.fitted {\n",
       "  /* fitted */\n",
       "  border: var(--sklearn-color-fitted-level-1) 1pt solid;\n",
       "  color: var(--sklearn-color-fitted-level-1);\n",
       "}\n",
       "\n",
       "/* On hover */\n",
       "div.sk-estimator:hover .sk-estimator-doc-link:hover,\n",
       ".sk-estimator-doc-link:hover,\n",
       "div.sk-label-container:hover .sk-estimator-doc-link:hover,\n",
       ".sk-estimator-doc-link:hover {\n",
       "  /* unfitted */\n",
       "  background-color: var(--sklearn-color-unfitted-level-3);\n",
       "  color: var(--sklearn-color-background);\n",
       "  text-decoration: none;\n",
       "}\n",
       "\n",
       "div.sk-estimator.fitted:hover .sk-estimator-doc-link.fitted:hover,\n",
       ".sk-estimator-doc-link.fitted:hover,\n",
       "div.sk-label-container:hover .sk-estimator-doc-link.fitted:hover,\n",
       ".sk-estimator-doc-link.fitted:hover {\n",
       "  /* fitted */\n",
       "  background-color: var(--sklearn-color-fitted-level-3);\n",
       "  color: var(--sklearn-color-background);\n",
       "  text-decoration: none;\n",
       "}\n",
       "\n",
       "/* Span, style for the box shown on hovering the info icon */\n",
       ".sk-estimator-doc-link span {\n",
       "  display: none;\n",
       "  z-index: 9999;\n",
       "  position: relative;\n",
       "  font-weight: normal;\n",
       "  right: .2ex;\n",
       "  padding: .5ex;\n",
       "  margin: .5ex;\n",
       "  width: min-content;\n",
       "  min-width: 20ex;\n",
       "  max-width: 50ex;\n",
       "  color: var(--sklearn-color-text);\n",
       "  box-shadow: 2pt 2pt 4pt #999;\n",
       "  /* unfitted */\n",
       "  background: var(--sklearn-color-unfitted-level-0);\n",
       "  border: .5pt solid var(--sklearn-color-unfitted-level-3);\n",
       "}\n",
       "\n",
       ".sk-estimator-doc-link.fitted span {\n",
       "  /* fitted */\n",
       "  background: var(--sklearn-color-fitted-level-0);\n",
       "  border: var(--sklearn-color-fitted-level-3);\n",
       "}\n",
       "\n",
       ".sk-estimator-doc-link:hover span {\n",
       "  display: block;\n",
       "}\n",
       "\n",
       "/* \"?\"-specific style due to the `<a>` HTML tag */\n",
       "\n",
       "#sk-container-id-1 a.estimator_doc_link {\n",
       "  float: right;\n",
       "  font-size: 1rem;\n",
       "  line-height: 1em;\n",
       "  font-family: monospace;\n",
       "  background-color: var(--sklearn-color-background);\n",
       "  border-radius: 1rem;\n",
       "  height: 1rem;\n",
       "  width: 1rem;\n",
       "  text-decoration: none;\n",
       "  /* unfitted */\n",
       "  color: var(--sklearn-color-unfitted-level-1);\n",
       "  border: var(--sklearn-color-unfitted-level-1) 1pt solid;\n",
       "}\n",
       "\n",
       "#sk-container-id-1 a.estimator_doc_link.fitted {\n",
       "  /* fitted */\n",
       "  border: var(--sklearn-color-fitted-level-1) 1pt solid;\n",
       "  color: var(--sklearn-color-fitted-level-1);\n",
       "}\n",
       "\n",
       "/* On hover */\n",
       "#sk-container-id-1 a.estimator_doc_link:hover {\n",
       "  /* unfitted */\n",
       "  background-color: var(--sklearn-color-unfitted-level-3);\n",
       "  color: var(--sklearn-color-background);\n",
       "  text-decoration: none;\n",
       "}\n",
       "\n",
       "#sk-container-id-1 a.estimator_doc_link.fitted:hover {\n",
       "  /* fitted */\n",
       "  background-color: var(--sklearn-color-fitted-level-3);\n",
       "}\n",
       "</style><div id=\"sk-container-id-1\" class=\"sk-top-container\"><div class=\"sk-text-repr-fallback\"><pre>KNeighborsClassifier()</pre><b>In a Jupyter environment, please rerun this cell to show the HTML representation or trust the notebook. <br />On GitHub, the HTML representation is unable to render, please try loading this page with nbviewer.org.</b></div><div class=\"sk-container\" hidden><div class=\"sk-item\"><div class=\"sk-estimator fitted sk-toggleable\"><input class=\"sk-toggleable__control sk-hidden--visually\" id=\"sk-estimator-id-1\" type=\"checkbox\" checked><label for=\"sk-estimator-id-1\" class=\"sk-toggleable__label fitted sk-toggleable__label-arrow fitted\">&nbsp;&nbsp;KNeighborsClassifier<a class=\"sk-estimator-doc-link fitted\" rel=\"noreferrer\" target=\"_blank\" href=\"https://scikit-learn.org/1.4/modules/generated/sklearn.neighbors.KNeighborsClassifier.html\">?<span>Documentation for KNeighborsClassifier</span></a><span class=\"sk-estimator-doc-link fitted\">i<span>Fitted</span></span></label><div class=\"sk-toggleable__content fitted\"><pre>KNeighborsClassifier()</pre></div> </div></div></div></div>"
      ],
      "text/plain": [
       "KNeighborsClassifier()"
      ]
     },
     "execution_count": 22,
     "metadata": {},
     "output_type": "execute_result"
    }
   ],
   "source": [
    "# Create classifier for the 2004 data\n",
    "optimal_k_for_precision = best_k_precision[0]\n",
    "knn_2004 = KNeighborsClassifier(n_neighbors = optimal_k_for_precision)\n",
    "X_train, X_test, y_train, y_test = train_test_split(X_2004, y_2004, random_state = 0) # Train test split\n",
    "knn_2004.fit(X_train, y_train) # Training data"
   ]
  },
  {
   "cell_type": "code",
   "execution_count": 23,
   "id": "e47bfd86-dd17-4d02-b3fe-352d8b78d4c3",
   "metadata": {},
   "outputs": [],
   "source": [
    "# Predict the 2004 election results using the test split\n",
    "predictions_2004 = knn_2004.predict(X_test) # testing data (x_train)"
   ]
  },
  {
   "cell_type": "code",
   "execution_count": 24,
   "id": "b2a74d00-c8f8-4175-bf89-58d33ec1088f",
   "metadata": {},
   "outputs": [
    {
     "name": "stdout",
     "output_type": "stream",
     "text": [
      "The f1 score for states that voted Republican is 0.74\n"
     ]
    }
   ],
   "source": [
    "f1_score_republican = f1_score(y_test, predictions_2004, average = 'binary', pos_label = 1, zero_division = 0)\n",
    "print(f'The f1 score for states that voted Republican is {round(f1_score_republican, 2)}')"
   ]
  },
  {
   "cell_type": "code",
   "execution_count": 25,
   "id": "8dedbee3-2453-4619-a4b0-248fc678b528",
   "metadata": {},
   "outputs": [
    {
     "name": "stdout",
     "output_type": "stream",
     "text": [
      "The model correctly predicted 7 states that voted Republican\n"
     ]
    }
   ],
   "source": [
    "correct_republican_predictions = ((predictions_2004 == 1) & (y_test == 1)).sum()\n",
    "print(f'The model correctly predicted {correct_republican_predictions} states that voted Republican')"
   ]
  },
  {
   "cell_type": "code",
   "execution_count": 26,
   "id": "a4628cbf-376e-4e9f-9a81-955e4e9a1649",
   "metadata": {},
   "outputs": [],
   "source": [
    "def how_did_state_vote(df, state, test_data, predictions):\n",
    "    ''' \n",
    "    Takes in a dataframe, state name, test data, and predictions\n",
    "\n",
    "    Predicts how a state will vote for that year and validates the selection against the actual data for that year\n",
    "    '''\n",
    "\n",
    "    state_index = df[df['state'] == state].index[0]\n",
    "    \n",
    "    state_actual = test_data.iloc[state_index]\n",
    "    state_predicted = predictions[state_index]\n",
    "    \n",
    "    if state_actual == state_predicted:\n",
    "        print(f\"The model correctly predicted {state}'s voting outcome in 2004.\")\n",
    "    else:\n",
    "        print(f\"The model did not correctly predict {state}'s voting outcome in 2004.\")"
   ]
  },
  {
   "cell_type": "code",
   "execution_count": 27,
   "id": "b91c9aed-1791-4e26-a362-dce868038238",
   "metadata": {},
   "outputs": [
    {
     "name": "stdout",
     "output_type": "stream",
     "text": [
      "The model correctly predicted OHIO's voting outcome in 2004.\n",
      "F1 score for Republican states:  0.7368\n",
      "Number of states correctly predicted to vote Republican: 7\n"
     ]
    }
   ],
   "source": [
    "how_did_state_vote(df_2004, 'OHIO', y_2004, predictions_2004)\n",
    "print(f\"F1 score for Republican states: {f1_score_republican: .4f}\")\n",
    "print(f\"Number of states correctly predicted to vote Republican: {correct_republican_predictions}\")"
   ]
  },
  {
   "cell_type": "code",
   "execution_count": 28,
   "id": "8680eba4-b0ad-422d-a738-0e45f93ea84c",
   "metadata": {
    "scrolled": true
   },
   "outputs": [],
   "source": [
    "optimal_k_recall = find_best_k_for_metric(X_2004, y_2004, 'recall_macro', range(4,11), higher_is_better = True)"
   ]
  },
  {
   "cell_type": "code",
   "execution_count": 29,
   "id": "22c87fba-7524-4f0a-bc2d-2349b2286bbe",
   "metadata": {},
   "outputs": [],
   "source": [
    "cm = confusion_matrix(y_test, predictions_2004)\n",
    "cm_labels = ['Democrat', 'Republican']"
   ]
  },
  {
   "cell_type": "code",
   "execution_count": 30,
   "id": "4c0b0dca-199a-4163-864b-e86b29beb0eb",
   "metadata": {},
   "outputs": [],
   "source": [
    "def plot_heat_map(cm, cm_labels):\n",
    "    '''\n",
    "    Creates a heatmap of the confusion matrix with given labels\n",
    "    '''\n",
    "    sns.heatmap(cm, annot = True, fmt = 'd', cmap = 'seismic', xticklabels = cm_labels, yticklabels = cm_labels)\n",
    "    plt.xlabel('Predicted')\n",
    "    plt.ylabel('Actual')\n",
    "    plt.title('Confusion Matrix for 2004 Election Predictions')\n",
    "    plt.show()"
   ]
  },
  {
   "cell_type": "code",
   "execution_count": 31,
   "id": "111471d5-1f17-4ebf-903f-4801952631cb",
   "metadata": {},
   "outputs": [
    {
     "data": {
      "image/png": "[encoded data removed]",
      "text/plain": [
       "<Figure size 640x480 with 2 Axes>"
      ]
     },
     "metadata": {},
     "output_type": "display_data"
    }
   ],
   "source": [
    "plot_heat_map(cm, cm_labels)"
   ]
  },
  {
   "cell_type": "code",
   "execution_count": 32,
   "id": "0968f405-0f85-49a5-aed6-e40896874ee9",
   "metadata": {},
   "outputs": [],
   "source": [
    "def metrics_list_generator(k_range, metric, X, y):\n",
    "    '''\n",
    "    Params:\n",
    "        - List of K-Values\n",
    "        - Required metric\n",
    "        - X data\n",
    "        - Y data\n",
    "    Returns:\n",
    "        - List of metrics for each value of K\n",
    "    '''\n",
    "\n",
    "    metrics = []\n",
    "    \n",
    "    kf = KFold(n_splits=5, shuffle=True, random_state=0)\n",
    "    \n",
    "    for k in k_range:\n",
    "        knn = KNeighborsClassifier(n_neighbors=k)\n",
    "        cv_results = cross_validate(knn, X, y, cv=kf, scoring=metric)\n",
    "        mean_score = np.mean(cv_results['test_score'])\n",
    "        metrics.append(mean_score)\n",
    "        \n",
    "    return metrics\n",
    "        "
   ]
  },
  {
   "cell_type": "code",
   "execution_count": 33,
   "id": "86be3310-ed2c-41f8-97e3-2ac1839a4a57",
   "metadata": {},
   "outputs": [
    {
     "name": "stderr",
     "output_type": "stream",
     "text": [
      "/Users/alex/opt/anaconda3/envs/ds2500/lib/python3.10/site-packages/sklearn/metrics/_classification.py:1509: UndefinedMetricWarning: Precision is ill-defined and being set to 0.0 in labels with no predicted samples. Use `zero_division` parameter to control this behavior.\n",
      "  _warn_prf(average, modifier, f\"{metric.capitalize()} is\", len(result))\n"
     ]
    }
   ],
   "source": [
    "import matplotlib.pyplot as plt\n",
    "\n",
    "k_range = range(4, 11)\n",
    "metrics_list = metrics_list_generator(k_range, 'precision_macro', X_2000, y_2000)"
   ]
  },
  {
   "cell_type": "code",
   "execution_count": 34,
   "id": "bb22c676-e241-4284-aeac-42c77fbc72a3",
   "metadata": {},
   "outputs": [],
   "source": [
    "def find_max_metric(metrics_list, k_range):\n",
    "    '''\n",
    "    Params:\n",
    "        - List of metrics\n",
    "        - Range of K-Values\n",
    "    Returns:\n",
    "        - The optimal K-Value\n",
    "        - The corresponding metric to go along with that value\n",
    "    '''\n",
    "\n",
    "    max_metric_index = np.argmax(metrics_list)\n",
    "    k_list = list(k_range)\n",
    "    max_k = k_list[max_metric_index]\n",
    "    max_score = metrics_list[max_metric_index]\n",
    "\n",
    "    return max_k, max_score"
   ]
  },
  {
   "cell_type": "code",
   "execution_count": 35,
   "id": "b987e94e-78ee-4897-b0dc-c25a2d512409",
   "metadata": {},
   "outputs": [],
   "source": [
    "def plot_metrics(k_range, metrics_list):\n",
    "    '''\n",
    "    Params:\n",
    "        - Range of k-values\n",
    "        - Metrics list\n",
    "    Returns:\n",
    "        - A plot of all the K-Values and their metrics\n",
    "        - The optimal metric as a star on the plot\n",
    "    '''\n",
    "   \n",
    "    mxs = find_max_metric(metrics_list, k_range)\n",
    "    \n",
    "    plt.scatter(list(k_range), metrics_list, color = 'orange', label = 'Precision Scores')\n",
    "    plt.scatter(mxs[0], mxs[1], marker = '*', label = 'Optimal Value', s = 200, color = 'dodgerblue')\n",
    "    plt.title('Precision Scores for K-Values')\n",
    "    plt.ylabel('Precision Scores')\n",
    "    plt.xlabel('K_Value')\n",
    "    plt.legend()\n",
    "    plt.grid()\n",
    "    plt.show()"
   ]
  },
  {
   "cell_type": "code",
   "execution_count": 36,
   "id": "b00404ef-8b90-47cc-92f5-12e984990029",
   "metadata": {},
   "outputs": [
    {
     "data": {
      "image/png": "[encoded data removed]",
      "text/plain": [
       "<Figure size 640x480 with 1 Axes>"
      ]
     },
     "metadata": {},
     "output_type": "display_data"
    }
   ],
   "source": [
    "plot_metrics(k_range, metrics_list)"
   ]
  }
 ],
 "metadata": {
  "kernelspec": {
   "display_name": "Python 3 (ipykernel)",
   "language": "python",
   "name": "python3"
  },
  "language_info": {
   "codemirror_mode": {
    "name": "ipython",
    "version": 3
   },
   "file_extension": ".py",
   "mimetype": "text/x-python",
   "name": "python",
   "nbconvert_exporter": "python",
   "pygments_lexer": "ipython3",
   "version": "3.10.13"
  }
 },
 "nbformat": 4,
 "nbformat_minor": 5
}
